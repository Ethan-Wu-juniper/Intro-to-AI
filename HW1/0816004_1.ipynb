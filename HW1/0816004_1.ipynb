{
  "nbformat": 4,
  "nbformat_minor": 0,
  "metadata": {
    "colab": {
      "name": "0000000_1.ipynb",
      "provenance": [],
      "collapsed_sections": [],
      "toc_visible": true
    },
    "kernelspec": {
      "name": "python3",
      "display_name": "Python 3"
    }
  },
  "cells": [
    {
      "cell_type": "markdown",
      "metadata": {
        "id": "phl4Y2-kWRwN"
      },
      "source": [
        "# Artificial Intelligence - Assignment 1\n",
        "\n",
        "## 1. Description\n",
        "\n",
        "In this assignment, you are going to solve the 8-puzzle using any algorithm. The `EightPuzzle` class is written and provided by TAs, you don't need to implement the puzzle yourself, just import and use.\n",
        "\n",
        "## 2. How to use `EightPuzzle`\n",
        "\n",
        "```python\n",
        "from eight_puzzle import EightPuzzle # import\n",
        "\n",
        "puzzle = EightPuzzle()\n",
        "\n",
        "puzzle.init()     # initialize a solvable puzzle state\n",
        "puzzle.init(seed) # initialize a solvable puzzle state using a seed\n",
        "print(puzzle)     # show current puzzle state\n",
        "\n",
        "# move\n",
        "puzzle.move('up')\n",
        "puzzle.move('down')\n",
        "puzzle.move('left')\n",
        "puzzle.move('right')\n",
        "\n",
        "if puzzle.state == puzzle.FINAL_STATE:\n",
        "  print('You have solved the puzzle')\n",
        "\n",
        "# Useful: get the next state after you move in a direction,\n",
        "# this won't change the internal state of EightPuzzle.\n",
        "state_after_move_up = puzzle.get_state_after_move(current_state, 'up')\n",
        "\n",
        "```\n",
        "\n"
      ]
    },
    {
      "cell_type": "code",
      "metadata": {
        "id": "402LsZPhUmgl",
        "colab": {
          "base_uri": "https://localhost:8080/"
        },
        "outputId": "f92c6fc7-4753-43fe-df4f-8e410fa9230a"
      },
      "source": [
        "# NOTE: PLEASE KEEP THIS CELL AND DO NOT MODIFY!\n",
        "\n",
        "# download eight_puzzle.py (YOU SHOULD NOT MODIFY eight_puzzle.py)\n",
        "!wget https://lab.djosix.com/eight_puzzle.py -qO eight_puzzle.py\n",
        "!sha1sum eight_puzzle.py\n",
        "\n",
        "from eight_puzzle import EightPuzzle, test"
      ],
      "execution_count": 7,
      "outputs": [
        {
          "output_type": "stream",
          "text": [
            "cea1d62ff26ac1db4b66aea0ac935b8daa0d2422  eight_puzzle.py\n"
          ],
          "name": "stdout"
        }
      ]
    },
    {
      "cell_type": "markdown",
      "metadata": {
        "id": "yCDHjleOb9Fd"
      },
      "source": [
        "## 3. Implement a search algorithm to solve 8-puzzle"
      ]
    },
    {
      "cell_type": "code",
      "metadata": {
        "id": "_OuRn868WNW0"
      },
      "source": [
        "def solve(p):\n",
        "    '''Solve the given 8-puzzle and return a list of moves.\n",
        "\n",
        "    Args:\n",
        "      puzzle (EightPuzzle): an EightPuzzle object.\n",
        "\n",
        "    Returns:\n",
        "      list: a list containing each move direction, for example:\n",
        "            ['up', 'down', 'left', 'left', ...]\n",
        "    '''\n",
        "\n",
        "    # YOUR CODE HERE\n",
        "    map = [[2,2],[0,0],[0,1],[0,2],[1,0],[1,1],[1,2],[2,0],[2,1]]\n",
        "    prestate = list()\n",
        "    step = list()\n",
        "    open = dict()\n",
        "    path = dict()\n",
        "    initial = p.state\n",
        "    cur_state = p.state\n",
        "    g = 0\n",
        "    while cur_state != p.FINAL_STATE:\n",
        "      g += 1\n",
        "      #print(g,cur_state)\n",
        "      prestate.append(cur_state)\n",
        "      for action in p.DIRECTIONS:\n",
        "        next_state = p.get_state_after_move(cur_state,action)\n",
        "        if next_state == None or next_state in prestate:\n",
        "          #print(\"problem \",action,next_state)\n",
        "          continue\n",
        "        else:\n",
        "          heu = 0\n",
        "          for i in range(9):\n",
        "             if next_state[i] != p.FINAL_STATE[i]:\n",
        "               heu += abs(i//3 - map[next_state[i]][0]) + abs(i%3 - map[next_state[i]][1])\n",
        "          open[heu] = next_state\n",
        "          path[next_state] = (cur_state,action)\n",
        "      min = 1e9\n",
        "      for key in open.keys():\n",
        "        if key < min:\n",
        "          min = key\n",
        "          cur_state = open[key]\n",
        "      del open[min]\n",
        "      #print(act)\n",
        "      #step.append(act)\n",
        "    while cur_state != initial:\n",
        "      step.append(path[cur_state][1])\n",
        "      cur_state = path[cur_state][0]\n",
        "    step.reverse()\n",
        "    return step\n",
        "    #return ['up', 'down', 'left', 'left', ...] # example"
      ],
      "execution_count": 19,
      "outputs": []
    },
    {
      "cell_type": "markdown",
      "metadata": {
        "id": "MPBYw09wWPSL"
      },
      "source": [
        "## 4. Test your algorithm"
      ]
    },
    {
      "cell_type": "code",
      "metadata": {
        "id": "567OKKy0psOR",
        "colab": {
          "base_uri": "https://localhost:8080/"
        },
        "outputId": "cbeaaa7a-2742-4f2a-9fae-bbe3f94fac03"
      },
      "source": [
        "# NOTE: PLEASE KEEP THIS CELL AND DO NOT MODIFY!\n",
        "\n",
        "results = test(solve, seed=123, n=10)"
      ],
      "execution_count": 20,
      "outputs": [
        {
          "output_type": "stream",
          "text": [
            "Running tests with seed: 123\n",
            "Test | seed: 55260453 | puzzle: (8, 6, 2, 5, 7, 0, 3, 1, 4) | elapsed: 0.0101s | solved\n",
            "Test | seed: 85291046 | puzzle: (2, 3, 4, 7, 0, 6, 1, 5, 8) | elapsed: 0.0135s | solved\n",
            "Test | seed: 54801393 | puzzle: (8, 2, 1, 3, 7, 6, 5, 4, 0) | elapsed: 0.0223s | solved\n",
            "Test | seed: 42905268 | puzzle: (4, 2, 1, 6, 5, 8, 7, 0, 3) | elapsed: 0.0310s | solved\n",
            "Test | seed: 31981756 | puzzle: (6, 2, 4, 3, 5, 8, 1, 0, 7) | elapsed: 0.0240s | solved\n",
            "Test | seed: 10224217 | puzzle: (5, 3, 4, 0, 8, 6, 2, 7, 1) | elapsed: 0.0163s | solved\n",
            "Test | seed: 68555945 | puzzle: (2, 4, 0, 6, 8, 3, 1, 7, 5) | elapsed: 0.0159s | solved\n",
            "Test | seed: 21759284 | puzzle: (3, 5, 4, 6, 1, 7, 2, 8, 0) | elapsed: 0.0096s | solved\n",
            "Test | seed: 90208442 | puzzle: (8, 7, 6, 3, 4, 0, 2, 5, 1) | elapsed: 0.0107s | solved\n",
            "Test | seed: 60679913 | puzzle: (6, 3, 2, 7, 4, 5, 8, 1, 0) | elapsed: 0.0254s | solved\n",
            "===> Solved: 10/10\n",
            "===> Average elapsed time: 0.0179s\n"
          ],
          "name": "stdout"
        }
      ]
    },
    {
      "cell_type": "markdown",
      "metadata": {
        "id": "zIHyo9QW7S7o"
      },
      "source": [
        "## 5. Submitting your assignment\n",
        "\n",
        "\n",
        "1. You have to save 2 files:\n",
        "  \n",
        "  - Click \"File\" > \"Download .ipynb\" to download `XXXXXXX_1.ipynb`\n",
        "  - Click \"File\" > \"Download .py\" to download `XXXXXXX_1.py`\n",
        "  \n",
        "  where `XXXXXXX` is your student ID.  \n",
        "\n",
        "2. Compress these 2 files into a `.zip` file named `XXXXXXX_1.zip`.\n",
        "\n",
        "3. Upload the zip file to E3.\n",
        "\n",
        "> **NOTE: You should click \"Runtime\" > \"Restart and run all\" before submitting to E3 to check if your program is able to run without any exception.**"
      ]
    }
  ]
}